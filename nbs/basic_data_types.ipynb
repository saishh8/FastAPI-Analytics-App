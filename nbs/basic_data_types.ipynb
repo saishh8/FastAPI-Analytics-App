{
 "cells": [
  {
   "cell_type": "code",
   "execution_count": 3,
   "id": "d0218fce",
   "metadata": {},
   "outputs": [
    {
     "data": {
      "text/plain": [
       "'http://127.0.0.1:8000/api/events/1'"
      ]
     },
     "execution_count": 3,
     "metadata": {},
     "output_type": "execute_result"
    }
   ],
   "source": [
    "import requests \n",
    "\n",
    "path = '/api/events/1'\n",
    "base_url = 'http://127.0.0.1:8000'\n",
    "endpoint = f'{base_url}{path}'\n",
    "endpoint"
   ]
  },
  {
   "cell_type": "code",
   "execution_count": 4,
   "id": "76c5dc9a",
   "metadata": {},
   "outputs": [
    {
     "name": "stdout",
     "output_type": "stream",
     "text": [
      "True\n",
      "{'id': 1}\n"
     ]
    }
   ],
   "source": [
    "response = requests.get(endpoint)\n",
    "print(response.ok)\n",
    "if response.ok:\n",
    "    data = response.json()\n",
    "\n",
    "\n",
    "print(data)"
   ]
  },
  {
   "cell_type": "code",
   "execution_count": 5,
   "id": "d47a6c5c",
   "metadata": {},
   "outputs": [
    {
     "name": "stdout",
     "output_type": "stream",
     "text": [
      "False\n",
      "{'id': 1}\n"
     ]
    }
   ],
   "source": [
    "path = '/api/events/'\n",
    "base_url = 'http://127.0.0.1:8000'\n",
    "endpoint = f'{base_url}{path}'\n",
    "\n",
    "response = requests.get(endpoint)\n",
    "print(response.ok)\n",
    "if response.ok:\n",
    "    data = response.json()\n",
    "\n",
    "\n",
    "print(data)"
   ]
  },
  {
   "cell_type": "markdown",
   "id": "0139e5d5",
   "metadata": {},
   "source": [
    "### POST METHOD"
   ]
  },
  {
   "cell_type": "code",
   "execution_count": 5,
   "id": "75eb8f43",
   "metadata": {},
   "outputs": [
    {
     "name": "stdout",
     "output_type": "stream",
     "text": [
      "False\n",
      "{\"detail\":[{\"type\":\"dict_type\",\"loc\":[\"body\"],\"msg\":\"Input should be a valid dictionary\",\"input\":\"page=%2Ftext%2B\"}]}\n",
      "{'date': 'Thu, 21 Aug 2025 22:20:54 GMT', 'server': 'uvicorn', 'content-length': '117', 'content-type': 'application/json'}\n",
      "{'page': '/text+'}\n"
     ]
    }
   ],
   "source": [
    "import requests\n",
    "path = '/api/events/'\n",
    "base_url = 'http://127.0.0.1:8000'\n",
    "endpoint = f'{base_url}{path}'\n",
    "\n",
    "data = {\"page\":'/text+'}\n",
    "response = requests.post(endpoint,data=data)\n",
    "print(response.ok)\n",
    "if response.ok:\n",
    "    data = response.json()\n",
    "else:\n",
    "    print(response.text)\n",
    "\n",
    "print(response.headers)\n",
    "\n",
    "print(data)"
   ]
  },
  {
   "cell_type": "code",
   "execution_count": 36,
   "id": "34034ddb",
   "metadata": {},
   "outputs": [
    {
     "name": "stdout",
     "output_type": "stream",
     "text": [
      "<class 'dict'>\n",
      "{'page': '/text+'}\n"
     ]
    }
   ],
   "source": [
    "data = {\"page\":'/text+'}\n",
    "print(type(data))\n",
    "print(data)"
   ]
  },
  {
   "cell_type": "code",
   "execution_count": 34,
   "id": "4d6f44a3",
   "metadata": {},
   "outputs": [
    {
     "name": "stdout",
     "output_type": "stream",
     "text": [
      "<class 'str'>\n",
      "{\"page\": \"/text+\"}\n"
     ]
    }
   ],
   "source": [
    "import json\n",
    "data = json.dumps(data)\n",
    "print(type(data))\n",
    "print(data)"
   ]
  },
  {
   "cell_type": "code",
   "execution_count": 37,
   "id": "74142a8a",
   "metadata": {},
   "outputs": [
    {
     "name": "stdout",
     "output_type": "stream",
     "text": [
      "{'id': 123}\n"
     ]
    }
   ],
   "source": [
    "response = requests.post(endpoint,json=data) #use data instead of json if passing a str instead of dict\n",
    "\n",
    "if response.ok:\n",
    "\n",
    "    data = response.json()\n",
    "    print(data)\n",
    "else:\n",
    "    print(response.text)\n",
    "\n"
   ]
  },
  {
   "cell_type": "markdown",
   "id": "e752845e",
   "metadata": {},
   "source": [
    "### PUT method\n"
   ]
  },
  {
   "cell_type": "code",
   "execution_count": 1,
   "id": "dc4c5a83",
   "metadata": {},
   "outputs": [
    {
     "name": "stdout",
     "output_type": "stream",
     "text": [
      "True\n",
      "{'date': 'Fri, 22 Aug 2025 21:32:38 GMT', 'server': 'uvicorn', 'content-length': '53', 'content-type': 'application/json'}\n",
      "{'id': 1, 'description': 'Californication', 'rating': 0.0}\n"
     ]
    }
   ],
   "source": [
    "import requests\n",
    "path = '/api/events/1'\n",
    "base_url = 'http://127.0.0.1:8000'\n",
    "endpoint = f'{base_url}{path}'\n",
    "\n",
    "\n",
    "description = 'Californication'\n",
    "rating = 8.5\n",
    "# data = {'id':1,\n",
    "#         'description':description,\n",
    "#         'rating':rating}\n",
    "\n",
    "data = {'id':1,\n",
    "        'description':description}\n",
    "\n",
    "response = requests.put(endpoint,json=data)\n",
    "print(response.ok)\n",
    "if response.ok:\n",
    "    data = response.json()\n",
    "else:\n",
    "    print(response.text)\n",
    "\n",
    "print(response.headers)\n",
    "\n",
    "print(data)"
   ]
  }
 ],
 "metadata": {
  "kernelspec": {
   "display_name": "fapi",
   "language": "python",
   "name": "python3"
  },
  "language_info": {
   "codemirror_mode": {
    "name": "ipython",
    "version": 3
   },
   "file_extension": ".py",
   "mimetype": "text/x-python",
   "name": "python",
   "nbconvert_exporter": "python",
   "pygments_lexer": "ipython3",
   "version": "3.12.11"
  }
 },
 "nbformat": 4,
 "nbformat_minor": 5
}
