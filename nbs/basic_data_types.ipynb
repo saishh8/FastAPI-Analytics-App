{
 "cells": [
  {
   "cell_type": "code",
   "execution_count": 4,
   "id": "d0218fce",
   "metadata": {},
   "outputs": [
    {
     "data": {
      "text/plain": [
       "'http://127.0.0.1:8000/api/events/1'"
      ]
     },
     "execution_count": 4,
     "metadata": {},
     "output_type": "execute_result"
    }
   ],
   "source": [
    "import requests \n",
    "\n",
    "path = '/api/events/1'\n",
    "base_url = 'http://127.0.0.1:8000'\n",
    "endpoint = f'{base_url}{path}'\n",
    "endpoint"
   ]
  },
  {
   "cell_type": "code",
   "execution_count": 5,
   "id": "76c5dc9a",
   "metadata": {},
   "outputs": [
    {
     "name": "stdout",
     "output_type": "stream",
     "text": [
      "True\n",
      "{'id': 1, 'rating': 0.0}\n"
     ]
    }
   ],
   "source": [
    "response = requests.get(endpoint)\n",
    "print(response.ok)\n",
    "if response.ok:\n",
    "    data = response.json()\n",
    "\n",
    "\n",
    "print(data)"
   ]
  },
  {
   "cell_type": "code",
   "execution_count": 3,
   "id": "d47a6c5c",
   "metadata": {},
   "outputs": [
    {
     "name": "stdout",
     "output_type": "stream",
     "text": [
      "True\n",
      "{'results': [{'id': 1, 'rating': 0.0}, {'id': 2, 'rating': 0.0}, {'id': 3, 'rating': 0.0}], 'count': 3}\n"
     ]
    }
   ],
   "source": [
    "path = '/api/events/'\n",
    "base_url = 'http://127.0.0.1:8000'\n",
    "endpoint = f'{base_url}{path}'\n",
    "\n",
    "response = requests.get(endpoint)\n",
    "print(response.ok)\n",
    "if response.ok:\n",
    "    data = response.json()\n",
    "\n",
    "\n",
    "print(data)"
   ]
  },
  {
   "cell_type": "markdown",
   "id": "0139e5d5",
   "metadata": {},
   "source": [
    "### POST METHOD"
   ]
  },
  {
   "cell_type": "code",
   "execution_count": 6,
   "id": "75eb8f43",
   "metadata": {},
   "outputs": [
    {
     "name": "stdout",
     "output_type": "stream",
     "text": [
      "False\n",
      "{\"detail\":[{\"type\":\"model_attributes_type\",\"loc\":[\"body\"],\"msg\":\"Input should be a valid dictionary or object to extract fields from\",\"input\":\"page=%2Ftext%2B\"}]}\n",
      "{'date': 'Sat, 23 Aug 2025 22:39:13 GMT', 'server': 'uvicorn', 'content-length': '162', 'content-type': 'application/json'}\n",
      "{'page': '/text+'}\n"
     ]
    }
   ],
   "source": [
    "import requests\n",
    "path = '/api/events/'\n",
    "base_url = 'http://127.0.0.1:8000'\n",
    "endpoint = f'{base_url}{path}'\n",
    "\n",
    "data = {\"page\":'/text+'}\n",
    "response = requests.post(endpoint,data=data)\n",
    "print(response.ok)\n",
    "if response.ok:\n",
    "    data = response.json()\n",
    "else:\n",
    "    print(response.text)\n",
    "\n",
    "print(response.headers)\n",
    "\n",
    "print(data)"
   ]
  },
  {
   "cell_type": "code",
   "execution_count": 9,
   "id": "34034ddb",
   "metadata": {},
   "outputs": [
    {
     "name": "stdout",
     "output_type": "stream",
     "text": [
      "<class 'dict'>\n",
      "{'description': 'Soul To Squeeze', 'rating': 8.0}\n"
     ]
    }
   ],
   "source": [
    "data = {\"description\":'Soul To Squeeze', \"rating\":8.0}\n",
    "print(type(data))\n",
    "print(data)"
   ]
  },
  {
   "cell_type": "code",
   "execution_count": 7,
   "id": "4d6f44a3",
   "metadata": {},
   "outputs": [
    {
     "name": "stdout",
     "output_type": "stream",
     "text": [
      "<class 'str'>\n",
      "{\"page\": \"/text+\"}\n"
     ]
    }
   ],
   "source": [
    "import json\n",
    "data = json.dumps(data)\n",
    "print(type(data))\n",
    "print(data)"
   ]
  },
  {
   "cell_type": "code",
   "execution_count": 11,
   "id": "74142a8a",
   "metadata": {},
   "outputs": [
    {
     "name": "stdout",
     "output_type": "stream",
     "text": [
      "{'rating': 8.0, 'id': 2, 'description': 'Soul To Squeeze'}\n"
     ]
    }
   ],
   "source": [
    "import requests\n",
    "response = requests.post(endpoint,json=data) #use data instead of json if passing a str instead of dict\n",
    "\n",
    "if response.ok:\n",
    "\n",
    "    data = response.json()\n",
    "    print(data)\n",
    "else:\n",
    "    print(response.text)\n",
    "\n"
   ]
  },
  {
   "cell_type": "markdown",
   "id": "e752845e",
   "metadata": {},
   "source": [
    "### PUT method\n"
   ]
  },
  {
   "cell_type": "code",
   "execution_count": 13,
   "id": "dc4c5a83",
   "metadata": {},
   "outputs": [
    {
     "name": "stdout",
     "output_type": "stream",
     "text": [
      "True\n",
      "{'date': 'Sat, 23 Aug 2025 23:07:25 GMT', 'server': 'uvicorn', 'content-length': '53', 'content-type': 'application/json'}\n",
      "{'rating': 8.5, 'id': 2, 'description': 'Californication'}\n"
     ]
    }
   ],
   "source": [
    "import requests\n",
    "path = '/api/events/2'\n",
    "base_url = 'http://127.0.0.1:8000'\n",
    "endpoint = f'{base_url}{path}'\n",
    "\n",
    "\n",
    "description = 'Californication'\n",
    "rating = 8.5\n",
    "data = {'id':2,\n",
    "        'description':description,\n",
    "        'rating':rating}\n",
    "\n",
    "# data = {'id':2,\n",
    "#         'description':description}\n",
    "\n",
    "response = requests.put(endpoint,json=data)\n",
    "print(response.ok)\n",
    "if response.ok:\n",
    "    data = response.json()\n",
    "else:\n",
    "    print(response.text)\n",
    "\n",
    "print(response.headers)\n",
    "\n",
    "print(data)"
   ]
  },
  {
   "cell_type": "markdown",
   "id": "7799d6d3",
   "metadata": {},
   "source": [
    "### GET all items"
   ]
  },
  {
   "cell_type": "code",
   "execution_count": 17,
   "id": "f68d9623",
   "metadata": {},
   "outputs": [
    {
     "name": "stdout",
     "output_type": "stream",
     "text": [
      "True\n",
      "{'date': 'Sat, 23 Aug 2025 23:25:24 GMT', 'server': 'uvicorn', 'content-length': '131', 'content-type': 'application/json'}\n",
      "{'results': [{'rating': 8.0, 'id': 1, 'description': 'Soul To Squeeze'}, {'rating': 8.5, 'id': 2, 'description': 'Californication'}], 'count': 2}\n"
     ]
    }
   ],
   "source": [
    "import requests\n",
    "path = '/api/events/'\n",
    "base_url = 'http://127.0.0.1:8000'\n",
    "endpoint = f'{base_url}{path}'\n",
    "\n",
    "\n",
    "response = requests.get(endpoint)\n",
    "print(response.ok)\n",
    "if response.ok:\n",
    "    data = response.json()\n",
    "else:\n",
    "    print(response.text)\n",
    "\n",
    "print(response.headers)\n",
    "\n",
    "print(data)"
   ]
  }
 ],
 "metadata": {
  "kernelspec": {
   "display_name": "fapi",
   "language": "python",
   "name": "python3"
  },
  "language_info": {
   "codemirror_mode": {
    "name": "ipython",
    "version": 3
   },
   "file_extension": ".py",
   "mimetype": "text/x-python",
   "name": "python",
   "nbconvert_exporter": "python",
   "pygments_lexer": "ipython3",
   "version": "3.12.11"
  }
 },
 "nbformat": 4,
 "nbformat_minor": 5
}
